{
 "cells": [
  {
   "cell_type": "code",
   "execution_count": 1,
   "metadata": {},
   "outputs": [
    {
     "ename": "ImportError",
     "evalue": "No module named pandas",
     "output_type": "error",
     "traceback": [
      "\u001b[0;31m---------------------------------------------------------------------------\u001b[0m",
      "\u001b[0;31mImportError\u001b[0m                               Traceback (most recent call last)",
      "\u001b[0;32m<ipython-input-1-1798e96f5888>\u001b[0m in \u001b[0;36m<module>\u001b[0;34m()\u001b[0m\n\u001b[1;32m      1\u001b[0m \u001b[0;34m\u001b[0m\u001b[0m\n\u001b[0;32m----> 2\u001b[0;31m \u001b[0;32mimport\u001b[0m \u001b[0mpandas\u001b[0m \u001b[0;32mas\u001b[0m \u001b[0mpd\u001b[0m\u001b[0;34m\u001b[0m\u001b[0m\n\u001b[0m\u001b[1;32m      3\u001b[0m \u001b[0mds\u001b[0m\u001b[0;34m=\u001b[0m\u001b[0mpd\u001b[0m\u001b[0;34m.\u001b[0m\u001b[0mread_csv\u001b[0m\u001b[0;34m(\u001b[0m\u001b[0;34m'Game_medal.csv'\u001b[0m\u001b[0;34m,\u001b[0m\u001b[0mencoding\u001b[0m\u001b[0;34m=\u001b[0m\u001b[0;34m\"ISO-8859-1\"\u001b[0m\u001b[0;34m)\u001b[0m\u001b[0;34m\u001b[0m\u001b[0m\n\u001b[1;32m      4\u001b[0m \u001b[0;31m#encoding=\"ISO-8859-1\"\u001b[0m\u001b[0;34m\u001b[0m\u001b[0;34m\u001b[0m\u001b[0m\n\u001b[1;32m      5\u001b[0m \u001b[0mds\u001b[0m\u001b[0;34m.\u001b[0m\u001b[0mhead\u001b[0m\u001b[0;34m(\u001b[0m\u001b[0;34m)\u001b[0m\u001b[0;31m#default first five row\u001b[0m\u001b[0;34m\u001b[0m\u001b[0m\n",
      "\u001b[0;31mImportError\u001b[0m: No module named pandas"
     ]
    }
   ],
   "source": [
    "# -*- coding: utf-8 -*-\n",
    "import pandas as pd\n",
    "ds=pd.read_csv('Game_medal.csv',encoding=\"ISO-8859-1\")\n",
    "#encoding=\"ISO-8859-1\"\n",
    "ds.head()#default first five row\n",
    "ds.tail()#default last five row\n",
    "ds.describe()#BEsic Summary dataset\n",
    "ds.shape#Nuber of row and Colums\n",
    "ds.shift#Default shift as it is database otherwise leftshif or right shift\n",
    "ds.info()#Database Information\n",
    "ds.NOC#Colum name NOC displayed\n",
    "ds.plot()#default INteger value accept x no of record y year\n",
    "import matplotlib.pyplot as plt\n",
    "plt.plot(ds.Edition)#graph for edition\n",
    "plt.plot(ds.Edition, label=\"Year of Event\")#lebel shown\n",
    "plt.legend(loc='upper left')#default first five row\n",
    "plt.plot(ds.Edition, color=\"blue\",label=\"Year of Event\")\n",
    "plt.plot(ds.Edition,linewidth=2.5, color=\"red\",label=\"Year of Event\")\n",
    "fig = plt.gcf() # get current figure\n",
    "ds.plot()\n",
    "fig.savefig('my_figure.png')\n",
    "\n",
    "\n",
    "\n",
    "import pandas as pd\n",
    "ds1=pd.read_csv('movie_metadata.csv',encoding=\"ISO-8859-1\")\n",
    "ds1.head()\n",
    "ds1.shape\n",
    "ds1.info()\n",
    "ds1.imdb_score.describe()\n",
    "ds1['movie_title']   # display movie_title column\n",
    "ds1['duration'][:10]  # First 10 records of duration column\n",
    "ds1[['budget','gross']] # select multiple columns\n",
    "ds1[ds1['duration'] > 120] # select movie more than 2 hr duration\n",
    "\n",
    "### Remove incomplete rows ####\n",
    "ds1.country=ds1.country.fillna('') # Will put empty string\n",
    "ds1.duration=ds1.duration.fillna(ds1.duration.mean()) # will put mean value of duration table\n",
    "ds1.dropna() # Dropping all rows with any NA values \n",
    "ds1.dropna(how='all') # drop rows that have all NA values\n",
    "ds1.dropna(thresh=5) # at least 5 non-null values, and greater than that will be deleted\n",
    "ds1.dropna(subset=['title_year'])  # don’t want to include any movie that doesn’t have information on when the movie came out\n",
    "\n",
    "### Deal with error-prone columns ###\n",
    "### axis=1 for Column and axis=0 for row it is default\n",
    "\n",
    "ds1.dropna(axis=1, how='all') # drop the columns with that are all NA values\n",
    "ds1.dropna(axis=1, how='any') # Drop all columns with any NA values\n",
    "ds1= pd.read_csv('movie_metadata.csv', dtype={'duration':int})\n",
    "ds1=pd.read_csv('movie_metadata.csv', dtype={'title_year':str}) # Normalize data types\n",
    "## Change casing\n",
    "ds1['movie_title'].str.upper()\n",
    "ds1['movie_title'].str.strip() # Remove trailing white spaces\n",
    "\n",
    "# Rename column\n",
    "\n",
    "ds1.rename(columns = {'title_year':'release_date', 'movie_facebook_likes':'facebook_likes'})\n",
    "\n",
    "# Save your result\n",
    "\n",
    "ds1.to_csv('cleanfile.csv', encoding='utf-8')\n",
    "\n",
    "\n"
   ]
  },
  {
   "cell_type": "code",
   "execution_count": null,
   "metadata": {},
   "outputs": [],
   "source": []
  }
 ],
 "metadata": {
  "kernelspec": {
   "display_name": "Python 3",
   "language": "python",
   "name": "python3"
  }
 },
 "nbformat": 4,
 "nbformat_minor": 2
}
