{
 "cells": [
  {
   "cell_type": "code",
   "execution_count": null,
   "metadata": {},
   "outputs": [],
   "source": [
    "import pandas as p\n"
   ]
  },
  {
   "cell_type": "code",
   "execution_count": 6,
   "metadata": {},
   "outputs": [],
   "source": [
    "ds=p.read_csv('Game_medal.csv',encoding=\"ISO-8859-1\")\n"
   ]
  },
  {
   "cell_type": "code",
   "execution_count": null,
   "metadata": {},
   "outputs": [],
   "source": [
    "ds.head()#default first five row\n"
   ]
  },
  {
   "cell_type": "code",
   "execution_count": null,
   "metadata": {},
   "outputs": [],
   "source": [
    "ds.tail()"
   ]
  },
  {
   "cell_type": "code",
   "execution_count": 10,
   "metadata": {},
   "outputs": [
    {
     "data": {
      "text/html": [
       "<div>\n",
       "<style scoped>\n",
       "    .dataframe tbody tr th:only-of-type {\n",
       "        vertical-align: middle;\n",
       "    }\n",
       "\n",
       "    .dataframe tbody tr th {\n",
       "        vertical-align: top;\n",
       "    }\n",
       "\n",
       "    .dataframe thead th {\n",
       "        text-align: right;\n",
       "    }\n",
       "</style>\n",
       "<table border=\"1\" class=\"dataframe\">\n",
       "  <thead>\n",
       "    <tr style=\"text-align: right;\">\n",
       "      <th></th>\n",
       "      <th>Edition</th>\n",
       "    </tr>\n",
       "  </thead>\n",
       "  <tbody>\n",
       "    <tr>\n",
       "      <th>count</th>\n",
       "      <td>29216.000000</td>\n",
       "    </tr>\n",
       "    <tr>\n",
       "      <th>mean</th>\n",
       "      <td>1967.713171</td>\n",
       "    </tr>\n",
       "    <tr>\n",
       "      <th>std</th>\n",
       "      <td>32.406293</td>\n",
       "    </tr>\n",
       "    <tr>\n",
       "      <th>min</th>\n",
       "      <td>1896.000000</td>\n",
       "    </tr>\n",
       "    <tr>\n",
       "      <th>25%</th>\n",
       "      <td>1948.000000</td>\n",
       "    </tr>\n",
       "    <tr>\n",
       "      <th>50%</th>\n",
       "      <td>1976.000000</td>\n",
       "    </tr>\n",
       "    <tr>\n",
       "      <th>75%</th>\n",
       "      <td>1996.000000</td>\n",
       "    </tr>\n",
       "    <tr>\n",
       "      <th>max</th>\n",
       "      <td>2008.000000</td>\n",
       "    </tr>\n",
       "  </tbody>\n",
       "</table>\n",
       "</div>"
      ],
      "text/plain": [
       "            Edition\n",
       "count  29216.000000\n",
       "mean    1967.713171\n",
       "std       32.406293\n",
       "min     1896.000000\n",
       "25%     1948.000000\n",
       "50%     1976.000000\n",
       "75%     1996.000000\n",
       "max     2008.000000"
      ]
     },
     "execution_count": 10,
     "metadata": {},
     "output_type": "execute_result"
    }
   ],
   "source": [
    "ds.describe()"
   ]
  },
  {
   "cell_type": "code",
   "execution_count": 12,
   "metadata": {},
   "outputs": [
    {
     "data": {
      "text/plain": [
       "(29216, 10)"
      ]
     },
     "execution_count": 12,
     "metadata": {},
     "output_type": "execute_result"
    }
   ],
   "source": [
    "ds.shape"
   ]
  },
  {
   "cell_type": "code",
   "execution_count": 13,
   "metadata": {},
   "outputs": [
    {
     "data": {
      "text/plain": [
       "<bound method DataFrame.shift of           City  Edition      Sport       Discipline  \\\n",
       "0       Athens     1896   Aquatics         Swimming   \n",
       "1       Athens     1896   Aquatics         Swimming   \n",
       "2       Athens     1896   Aquatics         Swimming   \n",
       "3       Athens     1896   Aquatics         Swimming   \n",
       "4       Athens     1896   Aquatics         Swimming   \n",
       "5       Athens     1896   Aquatics         Swimming   \n",
       "6       Athens     1896   Aquatics         Swimming   \n",
       "7       Athens     1896   Aquatics         Swimming   \n",
       "8       Athens     1896   Aquatics         Swimming   \n",
       "9       Athens     1896   Aquatics         Swimming   \n",
       "10      Athens     1896   Aquatics         Swimming   \n",
       "11      Athens     1896  Athletics        Athletics   \n",
       "12      Athens     1896  Athletics        Athletics   \n",
       "13      Athens     1896  Athletics        Athletics   \n",
       "14      Athens     1896  Athletics        Athletics   \n",
       "15      Athens     1896  Athletics        Athletics   \n",
       "16      Athens     1896  Athletics        Athletics   \n",
       "17      Athens     1896  Athletics        Athletics   \n",
       "18      Athens     1896  Athletics        Athletics   \n",
       "19      Athens     1896  Athletics        Athletics   \n",
       "20      Athens     1896  Athletics        Athletics   \n",
       "21      Athens     1896  Athletics        Athletics   \n",
       "22      Athens     1896  Athletics        Athletics   \n",
       "23      Athens     1896  Athletics        Athletics   \n",
       "24      Athens     1896  Athletics        Athletics   \n",
       "25      Athens     1896  Athletics        Athletics   \n",
       "26      Athens     1896  Athletics        Athletics   \n",
       "27      Athens     1896  Athletics        Athletics   \n",
       "28      Athens     1896  Athletics        Athletics   \n",
       "29      Athens     1896  Athletics        Athletics   \n",
       "...        ...      ...        ...              ...   \n",
       "29186  Beijing     2008  Wrestling  Wrestling Free.   \n",
       "29187  Beijing     2008  Wrestling  Wrestling Free.   \n",
       "29188  Beijing     2008  Wrestling  Wrestling Free.   \n",
       "29189  Beijing     2008  Wrestling  Wrestling Gre-R   \n",
       "29190  Beijing     2008  Wrestling  Wrestling Gre-R   \n",
       "29191  Beijing     2008  Wrestling  Wrestling Gre-R   \n",
       "29192  Beijing     2008  Wrestling  Wrestling Gre-R   \n",
       "29193  Beijing     2008  Wrestling  Wrestling Gre-R   \n",
       "29194  Beijing     2008  Wrestling  Wrestling Gre-R   \n",
       "29195  Beijing     2008  Wrestling  Wrestling Gre-R   \n",
       "29196  Beijing     2008  Wrestling  Wrestling Gre-R   \n",
       "29197  Beijing     2008  Wrestling  Wrestling Gre-R   \n",
       "29198  Beijing     2008  Wrestling  Wrestling Gre-R   \n",
       "29199  Beijing     2008  Wrestling  Wrestling Gre-R   \n",
       "29200  Beijing     2008  Wrestling  Wrestling Gre-R   \n",
       "29201  Beijing     2008  Wrestling  Wrestling Gre-R   \n",
       "29202  Beijing     2008  Wrestling  Wrestling Gre-R   \n",
       "29203  Beijing     2008  Wrestling  Wrestling Gre-R   \n",
       "29204  Beijing     2008  Wrestling  Wrestling Gre-R   \n",
       "29205  Beijing     2008  Wrestling  Wrestling Gre-R   \n",
       "29206  Beijing     2008  Wrestling  Wrestling Gre-R   \n",
       "29207  Beijing     2008  Wrestling  Wrestling Gre-R   \n",
       "29208  Beijing     2008  Wrestling  Wrestling Gre-R   \n",
       "29209  Beijing     2008  Wrestling  Wrestling Gre-R   \n",
       "29210  Beijing     2008  Wrestling  Wrestling Gre-R   \n",
       "29211  Beijing     2008  Wrestling  Wrestling Gre-R   \n",
       "29212  Beijing     2008  Wrestling  Wrestling Gre-R   \n",
       "29213  Beijing     2008  Wrestling  Wrestling Gre-R   \n",
       "29214  Beijing     2008  Wrestling  Wrestling Gre-R   \n",
       "29215  Beijing     2008  Wrestling  Wrestling Gre-R   \n",
       "\n",
       "                           Athlete  NOC Gender                       Event  \\\n",
       "0                    HAJOS, Alfred  HUN    Men              100m freestyle   \n",
       "1                 HERSCHMANN, Otto  AUT    Men              100m freestyle   \n",
       "2                DRIVAS, Dimitrios  GRE    Men  100m freestyle for sailors   \n",
       "3               MALOKINIS, Ioannis  GRE    Men  100m freestyle for sailors   \n",
       "4               CHASAPIS, Spiridon  GRE    Men  100m freestyle for sailors   \n",
       "5            CHOROPHAS, Efstathios  GRE    Men             1200m freestyle   \n",
       "6                    HAJOS, Alfred  HUN    Men             1200m freestyle   \n",
       "7                 ANDREOU, Joannis  GRE    Men             1200m freestyle   \n",
       "8            CHOROPHAS, Efstathios  GRE    Men              400m freestyle   \n",
       "9                    NEUMANN, Paul  AUT    Men              400m freestyle   \n",
       "10               PEPANOS, Antonios  GRE    Men              400m freestyle   \n",
       "11                   LANE, Francis  USA    Men                        100m   \n",
       "12                SZOKOLYI, Alajos  HUN    Men                        100m   \n",
       "13                   BURKE, Thomas  USA    Men                        100m   \n",
       "14                  HOFMANN, Fritz  GER    Men                        100m   \n",
       "15                  CURTIS, Thomas  USA    Men                110m hurdles   \n",
       "16              GOULDING, Grantley  GBR    Men                110m hurdles   \n",
       "17               LERMUSIAUX, Albin  FRA    Men                       1500m   \n",
       "18                    FLACK, Edwin  AUS    Men                       1500m   \n",
       "19                   BLAKE, Arthur  USA    Men                       1500m   \n",
       "20                 GMELIN, Charles  GBR    Men                        400m   \n",
       "21                   BURKE, Thomas  USA    Men                        400m   \n",
       "22                JAMISON, Herbert  USA    Men                        400m   \n",
       "23              GOLEMIS, Dimitrios  GRE    Men                        800m   \n",
       "24                    FLACK, Edwin  AUS    Men                        800m   \n",
       "25                    DANI, Nandor  HUN    Men                        800m   \n",
       "26                VERSIS, Sotirios  GRE    Men                discus throw   \n",
       "27                 GARRETT, Robert  USA    Men                discus throw   \n",
       "28     PARASKEVOPOULOS, Panagiotis  GRE    Men                discus throw   \n",
       "29                   CLARK, Ellery  USA    Men                   high jump   \n",
       "...                            ...  ...    ...                         ...   \n",
       "29186             MUTALIMOV, Marid  KAZ    Men                  96 - 120kg   \n",
       "29187              TAYMAZOV, Artur  UZB    Men                  96 - 120kg   \n",
       "29188          AKHMEDOV, Bakhtiyar  RUS    Men                  96 - 120kg   \n",
       "29189                AMOYAN, Roman  ARM    Men                      - 55kg   \n",
       "29190               PARK, Eun-Chul  KOR    Men                      - 55kg   \n",
       "29191               MANKIEV, Nazyr  RUS    Men                      - 55kg   \n",
       "29192            BAYRAMOV, Rovshan  AZE    Men                      - 55kg   \n",
       "29193        TENGIZBAYEV, Nurbakyt  KAZ    Men                   55 - 60kg   \n",
       "29194           TIUMENBAEV, Ruslan  KGZ    Men                   55 - 60kg   \n",
       "29195           ALBIEV, Islam-Beka  RUS    Men                   55 - 60kg   \n",
       "29196             RAHIMOV, Vitaliy  AZE    Men                   55 - 60kg   \n",
       "29197           SIAMIONAU, Mikhail  BLR    Men                   60 - 66kg   \n",
       "29198             VARDANYAN, Armen  UKR    Men                   60 - 66kg   \n",
       "29199               GUENOT, Steeve  FRA    Men                   60 - 66kg   \n",
       "29200           BEGALIEV, Kanatbek  KGZ    Men                   60 - 66kg   \n",
       "29201           GUENOT, Christophe  FRA    Men                   66 - 74kg   \n",
       "29202              YANAKIEV, Yavor  BUL    Men                   66 - 74kg   \n",
       "29203          KVIRKELIA, Manuchar  GEO    Men                   66 - 74kg   \n",
       "29204             CHANG, Yongxiang  CHN    Men                   66 - 74kg   \n",
       "29205                AVLUCA, Nazmi  TUR    Men                   74 - 84kg   \n",
       "29206             MINGUZZI, Andrea  ITA    Men                   74 - 84kg   \n",
       "29207                FODOR, Zoltan  HUN    Men                   74 - 84kg   \n",
       "29208              MAMBETOV, Asset  KAZ    Men                   84 - 96kg   \n",
       "29209                WHEELER, Adam  USA    Men                   84 - 96kg   \n",
       "29210           KHUSHTOV, Aslanbek  RUS    Men                   84 - 96kg   \n",
       "29211               ENGLICH, Mirko  GER    Men                   84 - 96kg   \n",
       "29212         MIZGAITIS, Mindaugas  LTU    Men                  96 - 120kg   \n",
       "29213              PATRIKEEV, Yuri  ARM    Men                  96 - 120kg   \n",
       "29214                LOPEZ, Mijain  CUB    Men                  96 - 120kg   \n",
       "29215               BAROEV, Khasan  RUS    Men                  96 - 120kg   \n",
       "\n",
       "      Event_gender   Medal  \n",
       "0                M    Gold  \n",
       "1                M  Silver  \n",
       "2                M  Bronze  \n",
       "3                M    Gold  \n",
       "4                M  Silver  \n",
       "5                M  Bronze  \n",
       "6                M    Gold  \n",
       "7                M  Silver  \n",
       "8                M  Bronze  \n",
       "9                M    Gold  \n",
       "10               M  Silver  \n",
       "11               M  Bronze  \n",
       "12               M  Bronze  \n",
       "13               M    Gold  \n",
       "14               M  Silver  \n",
       "15               M    Gold  \n",
       "16               M  Silver  \n",
       "17               M  Bronze  \n",
       "18               M    Gold  \n",
       "19               M  Silver  \n",
       "20               M  Bronze  \n",
       "21               M    Gold  \n",
       "22               M  Silver  \n",
       "23               M  Bronze  \n",
       "24               M    Gold  \n",
       "25               M  Silver  \n",
       "26               M  Bronze  \n",
       "27               M    Gold  \n",
       "28               M  Silver  \n",
       "29               M    Gold  \n",
       "...            ...     ...  \n",
       "29186            M  Bronze  \n",
       "29187            M    Gold  \n",
       "29188            M  Silver  \n",
       "29189            M  Bronze  \n",
       "29190            M  Bronze  \n",
       "29191            M    Gold  \n",
       "29192            M  Silver  \n",
       "29193            M  Bronze  \n",
       "29194            M  Bronze  \n",
       "29195            M    Gold  \n",
       "29196            M  Silver  \n",
       "29197            M  Bronze  \n",
       "29198            M  Bronze  \n",
       "29199            M    Gold  \n",
       "29200            M  Silver  \n",
       "29201            M  Bronze  \n",
       "29202            M  Bronze  \n",
       "29203            M    Gold  \n",
       "29204            M  Silver  \n",
       "29205            M  Bronze  \n",
       "29206            M    Gold  \n",
       "29207            M  Silver  \n",
       "29208            M  Bronze  \n",
       "29209            M  Bronze  \n",
       "29210            M    Gold  \n",
       "29211            M  Silver  \n",
       "29212            M  Bronze  \n",
       "29213            M  Bronze  \n",
       "29214            M    Gold  \n",
       "29215            M  Silver  \n",
       "\n",
       "[29216 rows x 10 columns]>"
      ]
     },
     "execution_count": 13,
     "metadata": {},
     "output_type": "execute_result"
    }
   ],
   "source": [
    "ds.shift\n"
   ]
  },
  {
   "cell_type": "code",
   "execution_count": 14,
   "metadata": {},
   "outputs": [
    {
     "name": "stdout",
     "output_type": "stream",
     "text": [
      "<class 'pandas.core.frame.DataFrame'>\n",
      "RangeIndex: 29216 entries, 0 to 29215\n",
      "Data columns (total 10 columns):\n",
      "City            29216 non-null object\n",
      "Edition         29216 non-null int64\n",
      "Sport           29216 non-null object\n",
      "Discipline      29216 non-null object\n",
      "Athlete         29216 non-null object\n",
      "NOC             29216 non-null object\n",
      "Gender          29216 non-null object\n",
      "Event           29216 non-null object\n",
      "Event_gender    29216 non-null object\n",
      "Medal           29216 non-null object\n",
      "dtypes: int64(1), object(9)\n",
      "memory usage: 2.2+ MB\n"
     ]
    }
   ],
   "source": [
    "ds.info()"
   ]
  },
  {
   "cell_type": "code",
   "execution_count": 16,
   "metadata": {},
   "outputs": [
    {
     "data": {
      "text/plain": [
       "<matplotlib.axes._subplots.AxesSubplot at 0x7f27e0726278>"
      ]
     },
     "execution_count": 16,
     "metadata": {},
     "output_type": "execute_result"
    },
    {
     "data": {
      "image/png": "[encoded data removed]",
      "text/plain": [
       "<Figure size 432x288 with 1 Axes>"
      ]
     },
     "metadata": {},
     "output_type": "display_data"
    }
   ],
   "source": [
    "ds.plot()"
   ]
  },
  {
   "cell_type": "code",
   "execution_count": null,
   "metadata": {},
   "outputs": [],
   "source": []
  }
 ],
 "metadata": {
  "kernelspec": {
   "display_name": "Python 3",
   "language": "python",
   "name": "python3"
  },
  "language_info": {
   "codemirror_mode": {
    "name": "ipython",
    "version": 2
   },
   "file_extension": ".py",
   "mimetype": "text/x-python",
   "name": "python",
   "nbconvert_exporter": "python",
   "pygments_lexer": "ipython2",
   "version": "2.7.12"
  }
 },
 "nbformat": 4,
 "nbformat_minor": 2
}
