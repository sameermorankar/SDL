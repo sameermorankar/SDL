{
 "cells": [
  {
   "cell_type": "code",
   "execution_count": 2,
   "metadata": {},
   "outputs": [
    {
     "name": "stdout",
     "output_type": "stream",
     "text": [
      "Please enter a string : they dont know that we know they know\n",
      "Ascending sorted list : \n",
      "[('dont', 1), ('know', 3), ('that', 1), ('they', 2), ('we', 1)]\n",
      "Descending sorted list : \n",
      "[('we', 1), ('they', 2), ('that', 1), ('know', 3), ('dont', 1)]\n"
     ]
    }
   ],
   "source": [
    "def word_count(str):\n",
    "    count=dict()\n",
    "    w=str.split()\n",
    "    for a in w:\n",
    "        if a in count:\n",
    "            count[a]+=1\n",
    "        else:\n",
    "            count[a]=1\n",
    "            \n",
    "    return count\n",
    "str1=input(\"Please enter a string : \")\n",
    "c=word_count(str1)\n",
    "e=sorted(c.items(),reverse=False)\n",
    "print(\"Ascending sorted list : \")\n",
    "print(e)\n",
    "print(\"Descending sorted list : \")\n",
    "d=sorted(c.items(),reverse=True)\n",
    "print(d)"
   ]
  },
  {
   "cell_type": "code",
   "execution_count": null,
   "metadata": {},
   "outputs": [],
   "source": []
  },
  {
   "cell_type": "code",
   "execution_count": null,
   "metadata": {},
   "outputs": [],
   "source": []
  }
 ],
 "metadata": {
  "kernelspec": {
   "display_name": "Python 3",
   "language": "python",
   "name": "python3"
  },
  "language_info": {
   "codemirror_mode": {
    "name": "ipython",
    "version": 3
   },
   "file_extension": ".py",
   "mimetype": "text/x-python",
   "name": "python",
   "nbconvert_exporter": "python",
   "pygments_lexer": "ipython3",
   "version": "3.5.2"
  }
 },
 "nbformat": 4,
 "nbformat_minor": 2
}
